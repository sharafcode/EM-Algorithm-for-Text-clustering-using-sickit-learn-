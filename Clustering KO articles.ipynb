{
 "cells": [
  {
   "cell_type": "code",
   "execution_count": 1,
   "metadata": {
    "collapsed": true
   },
   "outputs": [],
   "source": [
    "import pandas as pd\n",
    "from em_utilities import *\n",
    "import sframe as sf\n",
    "from sklearn.feature_extraction.text import TfidfVectorizer , CountVectorizer\n",
    "import scipy"
   ]
  },
  {
   "cell_type": "code",
   "execution_count": 2,
   "metadata": {},
   "outputs": [
    {
     "name": "stderr",
     "output_type": "stream",
     "text": [
      "[INFO] sframe.cython.cy_server: SFrame v2.1 started. Logging /tmp/sframe_server_1503498767.log\n"
     ]
    },
    {
     "name": "stdout",
     "output_type": "stream",
     "text": [
      "------------------------------------------------------\n",
      "Inferred types from first 100 line(s) of file as \n",
      "column_type_hints=[int,str,str,dict]\n",
      "If parsing fails due to incorrect types, you can correct\n",
      "the inferred type list above and pass it to read_csv in\n",
      "the column_type_hints argument\n",
      "------------------------------------------------------\n"
     ]
    },
    {
     "data": {
      "text/html": [
       "<pre>Finished parsing file /home/abdl-rahman/Desktop/Recommendation systems/EM for clustering/KO_articles_tfidf.csv</pre>"
      ],
      "text/plain": [
       "Finished parsing file /home/abdl-rahman/Desktop/Recommendation systems/EM for clustering/KO_articles_tfidf.csv"
      ]
     },
     "metadata": {},
     "output_type": "display_data"
    },
    {
     "data": {
      "text/html": [
       "<pre>Parsing completed. Parsed 1390 lines in 0.855389 secs.</pre>"
      ],
      "text/plain": [
       "Parsing completed. Parsed 1390 lines in 0.855389 secs."
      ]
     },
     "metadata": {},
     "output_type": "display_data"
    },
    {
     "data": {
      "text/html": [
       "<div style=\"max-height:1000px;max-width:1500px;overflow:auto;\"><table frame=\"box\" rules=\"cols\">\n",
       "    <tr>\n",
       "        <th style=\"padding-left: 1em; padding-right: 1em; text-align: center\">category</th>\n",
       "        <th style=\"padding-left: 1em; padding-right: 1em; text-align: center\">text</th>\n",
       "        <th style=\"padding-left: 1em; padding-right: 1em; text-align: center\">tf_idf</th>\n",
       "    </tr>\n",
       "    <tr>\n",
       "        <td style=\"padding-left: 1em; padding-right: 1em; text-align: center; vertical-align: top\">business</td>\n",
       "        <td style=\"padding-left: 1em; padding-right: 1em; text-align: center; vertical-align: top\">Policy for Growth and<br>InnovationI get asked ...</td>\n",
       "        <td style=\"padding-left: 1em; padding-right: 1em; text-align: center; vertical-align: top\">{'stock':<br>3.248074979560463, 'r ...</td>\n",
       "    </tr>\n",
       "    <tr>\n",
       "        <td style=\"padding-left: 1em; padding-right: 1em; text-align: center; vertical-align: top\">business</td>\n",
       "        <td style=\"padding-left: 1em; padding-right: 1em; text-align: center; vertical-align: top\">Sam AltmanThe most<br>important story of 2014 ...</td>\n",
       "        <td style=\"padding-left: 1em; padding-right: 1em; text-align: center; vertical-align: top\">{'petroyuan':<br>7.237059026124737, 'a ...</td>\n",
       "    </tr>\n",
       "    <tr>\n",
       "        <td style=\"padding-left: 1em; padding-right: 1em; text-align: center; vertical-align: top\">business</td>\n",
       "        <td style=\"padding-left: 1em; padding-right: 1em; text-align: center; vertical-align: top\">Bubble talkI m tired of<br>reading about investors ...</td>\n",
       "        <td style=\"padding-left: 1em; padding-right: 1em; text-align: center; vertical-align: top\">{'talki':<br>7.237059026124737, ...</td>\n",
       "    </tr>\n",
       "    <tr>\n",
       "        <td style=\"padding-left: 1em; padding-right: 1em; text-align: center; vertical-align: top\">business</td>\n",
       "        <td style=\"padding-left: 1em; padding-right: 1em; text-align: center; vertical-align: top\">A new team at redditLast<br>week  Yishan Wong ...</td>\n",
       "        <td style=\"padding-left: 1em; padding-right: 1em; text-align: center; vertical-align: top\">{'ohanian':<br>7.237059026124737, ...</td>\n",
       "    </tr>\n",
       "    <tr>\n",
       "        <td style=\"padding-left: 1em; padding-right: 1em; text-align: center; vertical-align: top\">business</td>\n",
       "        <td style=\"padding-left: 1em; padding-right: 1em; text-align: center; vertical-align: top\">Why  Ops  Is Taking Over<br>Startup LandA little  ...</td>\n",
       "        <td style=\"padding-left: 1em; padding-right: 1em; text-align: center; vertical-align: top\">{'operations':<br>26.401277084533294, ...</td>\n",
       "    </tr>\n",
       "    <tr>\n",
       "        <td style=\"padding-left: 1em; padding-right: 1em; text-align: center; vertical-align: top\">business</td>\n",
       "        <td style=\"padding-left: 1em; padding-right: 1em; text-align: center; vertical-align: top\">10 Data Acquisition<br>Strategies for Startups ...</td>\n",
       "        <td style=\"padding-left: 1em; padding-right: 1em; text-align: center; vertical-align: top\">{'exclusive':<br>3.28581530754331, ...</td>\n",
       "    </tr>\n",
       "    <tr>\n",
       "        <td style=\"padding-left: 1em; padding-right: 1em; text-align: center; vertical-align: top\">business</td>\n",
       "        <td style=\"padding-left: 1em; padding-right: 1em; text-align: center; vertical-align: top\">One of the Greatest<br>Entrepreneurial Stories ...</td>\n",
       "        <td style=\"padding-left: 1em; padding-right: 1em; text-align: center; vertical-align: top\">{'all':<br>0.3912947246598535, ...</td>\n",
       "    </tr>\n",
       "    <tr>\n",
       "        <td style=\"padding-left: 1em; padding-right: 1em; text-align: center; vertical-align: top\">business</td>\n",
       "        <td style=\"padding-left: 1em; padding-right: 1em; text-align: center; vertical-align: top\">2017 YC Annual LetterDear<br>YC Community   In ...</td>\n",
       "        <td style=\"padding-left: 1em; padding-right: 1em; text-align: center; vertical-align: top\">{'represent':<br>2.583098675967214, 'a ...</td>\n",
       "    </tr>\n",
       "    <tr>\n",
       "        <td style=\"padding-left: 1em; padding-right: 1em; text-align: center; vertical-align: top\">business</td>\n",
       "        <td style=\"padding-left: 1em; padding-right: 1em; text-align: center; vertical-align: top\">How to Build a Startup<br>Ecosystem in Your ...</td>\n",
       "        <td style=\"padding-left: 1em; padding-right: 1em; text-align: center; vertical-align: top\">{'all':<br>0.3912947246598535, ...</td>\n",
       "    </tr>\n",
       "    <tr>\n",
       "        <td style=\"padding-left: 1em; padding-right: 1em; text-align: center; vertical-align: top\">business</td>\n",
       "        <td style=\"padding-left: 1em; padding-right: 1em; text-align: center; vertical-align: top\">Growth vs  Profitability<br>and Venture ReturnsThere ...</td>\n",
       "        <td style=\"padding-left: 1em; padding-right: 1em; text-align: center; vertical-align: top\">{'all':<br>0.3912947246598535, ...</td>\n",
       "    </tr>\n",
       "</table>\n",
       "[1390 rows x 3 columns]<br/>Note: Only the head of the SFrame is printed.<br/>You can use print_rows(num_rows=m, num_columns=n) to print more rows and columns.\n",
       "</div>"
      ],
      "text/plain": [
       "Columns:\n",
       "\tcategory\tstr\n",
       "\ttext\tstr\n",
       "\ttf_idf\tdict\n",
       "\n",
       "Rows: 1390\n",
       "\n",
       "Data:\n",
       "+----------+-------------------------------+-------------------------------+\n",
       "| category |              text             |             tf_idf            |\n",
       "+----------+-------------------------------+-------------------------------+\n",
       "| business | Policy for Growth and Inno... | {'stock': 3.24807497956046... |\n",
       "| business | Sam AltmanThe most importa... | {'petroyuan': 7.2370590261... |\n",
       "| business | Bubble talkI m tired of re... | {'talki': 7.23705902612473... |\n",
       "| business | A new team at redditLast w... | {'ohanian': 7.237059026124... |\n",
       "| business | Why  Ops  Is Taking Over S... | {'operations': 26.40127708... |\n",
       "| business | 10 Data Acquisition Strate... | {'exclusive': 3.2858153075... |\n",
       "| business | One of the Greatest Entrep... | {'all': 0.3912947246598535... |\n",
       "| business | 2017 YC Annual LetterDear ... | {'represent': 2.5830986759... |\n",
       "| business | How to Build a Startup Eco... | {'all': 0.3912947246598535... |\n",
       "| business | Growth vs  Profitability a... | {'all': 0.3912947246598535... |\n",
       "+----------+-------------------------------+-------------------------------+\n",
       "[1390 rows x 3 columns]\n",
       "Note: Only the head of the SFrame is printed.\n",
       "You can use print_rows(num_rows=m, num_columns=n) to print more rows and columns."
      ]
     },
     "execution_count": 2,
     "metadata": {},
     "output_type": "execute_result"
    }
   ],
   "source": [
    "dataset= sf.SFrame('KO_articles_tfidf.csv')\n",
    "dataset.remove_column('X1')"
   ]
  },
  {
   "cell_type": "code",
   "execution_count": 3,
   "metadata": {},
   "outputs": [],
   "source": [
    "tfidfvec= TfidfVectorizer(stop_words='english')\n",
    "tf_idf_matrix= tfidfvec.fit_transform(dataset['text'])\n",
    "# mapping = sf.SFrame('Map_index_words.csv')\n",
    "# tfidf_df = pd.read_csv('KO_tfidf.csv')\n",
    "# tfidf_df.set_index('0', inplace=True)"
   ]
  },
  {
   "cell_type": "code",
   "execution_count": 4,
   "metadata": {
    "collapsed": true
   },
   "outputs": [],
   "source": [
    "countvec = CountVectorizer(stop_words='english')\n",
    "wordvec_matrix= countvec.fit_transform(dataset['text'])"
   ]
  },
  {
   "cell_type": "code",
   "execution_count": 5,
   "metadata": {
    "scrolled": true
   },
   "outputs": [
    {
     "name": "stderr",
     "output_type": "stream",
     "text": [
      "/usr/local/lib/python2.7/dist-packages/sklearn/utils/validation.py:429: DataConversionWarning: Data with input dtype int64 was converted to float64 by the normalize function.\n",
      "  warnings.warn(msg, _DataConversionWarning)\n"
     ]
    }
   ],
   "source": [
    "wordvec_matrix = normalize(wordvec_matrix)"
   ]
  },
  {
   "cell_type": "code",
   "execution_count": null,
   "metadata": {
    "collapsed": true
   },
   "outputs": [],
   "source": [
    "# tfidf = scipy.sparse.csr_matrix(tfidf_df.values)"
   ]
  },
  {
   "cell_type": "code",
   "execution_count": 6,
   "metadata": {
    "collapsed": true
   },
   "outputs": [],
   "source": [
    "tf_idf_matrix = normalize(tf_idf_matrix)"
   ]
  },
  {
   "cell_type": "markdown",
   "metadata": {},
   "source": [
    "## Model Parameters smart initialization"
   ]
  },
  {
   "cell_type": "code",
   "execution_count": 8,
   "metadata": {
    "collapsed": true
   },
   "outputs": [],
   "source": [
    "#Smart Initialization for means\n",
    "def initialize_means(num_clusters,features_matrix):\n",
    "    from sklearn.cluster import KMeans\n",
    "    np.random.seed(5)\n",
    "    kmeans_model = KMeans(n_clusters=num_clusters, n_init=5, max_iter=400, random_state=1, n_jobs=1)\n",
    "    kmeans_model.fit(features_matrix)\n",
    "    centroids, cluster_assignment = kmeans_model.cluster_centers_, kmeans_model.labels_\n",
    "    means = [centroid for centroid in centroids]\n",
    "    return [means , cluster_assignment]"
   ]
  },
  {
   "cell_type": "code",
   "execution_count": 9,
   "metadata": {
    "collapsed": true
   },
   "outputs": [],
   "source": [
    "#Smart initialization for weights\n",
    "def initialize_weights(num_clusters,features_matrix):\n",
    "    num_docs = features_matrix.shape[0]\n",
    "    weights = []\n",
    "    for i in xrange(num_clusters):\n",
    "        num_assigned = len(cluster_assignment[cluster_assignment==i]) # YOUR CODE HERE\n",
    "        w = float(num_assigned) / num_docs\n",
    "        weights.append(w)\n",
    "    return weights"
   ]
  },
  {
   "cell_type": "code",
   "execution_count": 10,
   "metadata": {
    "collapsed": true
   },
   "outputs": [],
   "source": [
    "#Smart initialization for covariances\n",
    "def initialize_covs(num_clusters,features_matrix):\n",
    "    covs = []\n",
    "    for i in xrange(num_clusters):\n",
    "        member_rows = features_matrix[cluster_assignment==i]\n",
    "        cov = (member_rows.multiply(member_rows) - 2*member_rows.dot(diag(means[i]))).sum(axis=0).A1 / member_rows.shape[0] \\\n",
    "        + means[i]**2\n",
    "        cov[cov < 1e-8] = 1e-8\n",
    "        covs.append(cov)\n",
    "    return covs"
   ]
  },
  {
   "cell_type": "markdown",
   "metadata": {},
   "source": [
    "## Visualize words of each cluster"
   ]
  },
  {
   "cell_type": "code",
   "execution_count": 11,
   "metadata": {
    "collapsed": true
   },
   "outputs": [],
   "source": [
    "# Fill in the blanks\n",
    "def visualize_EM_clusters(tf_idf, means, covs, map_index_to_word):\n",
    "    print('')\n",
    "    print('==========================================================')\n",
    "\n",
    "    num_clusters = len(means)\n",
    "    for c in xrange(num_clusters):\n",
    "        print('Cluster {0:d}: Largest mean parameters in cluster '.format(c))\n",
    "        print('\\n{0: <12}{1: <12}{2: <12}'.format('Word', 'Mean', 'Variance'))\n",
    "        \n",
    "        # The k'th element of sorted_word_ids should be the index of the word \n",
    "        # that has the k'th-largest value in the cluster mean. Hint: Use np.argsort().\n",
    "        sorted_word_ids = np.argsort(means[c])[::-1]  # YOUR CODE HERE\n",
    "\n",
    "        for i in sorted_word_ids[:10]:\n",
    "            print '{0: <12}{1:<10.2e}{2:10.2e}'.format(map_index_to_word[i], \n",
    "                                                       means[c][i],\n",
    "                                                       covs[c][i])\n",
    "        print '\\n=========================================================='"
   ]
  },
  {
   "cell_type": "code",
   "execution_count": 32,
   "metadata": {},
   "outputs": [],
   "source": [
    "def clusters_report(clusters_idx):\n",
    "    cluster_id=0\n",
    "    for cluster_indicies in clusters_idx:\n",
    "        countP=0\n",
    "        countB=0\n",
    "        countE=0\n",
    "        for i in cluster_indicies:\n",
    "            if dataset['category'][i]=='product':\n",
    "                countP+=1\n",
    "            elif dataset['category'][i]=='engineering':\n",
    "                countE+=1\n",
    "            elif dataset['category'][i]=='business':\n",
    "                countB+=1\n",
    "        print \"Cluster \",cluster_id ,\"\\n==========================\\n\"\n",
    "        cluster_id+=1\n",
    "        print \"product count : \",countP ,\"\\nengineering count : \",countE,\"\\nbusiness count : \",countB , \"\\n\"\n",
    "    "
   ]
  },
  {
   "cell_type": "code",
   "execution_count": 13,
   "metadata": {},
   "outputs": [
    {
     "name": "stdout",
     "output_type": "stream",
     "text": [
      "Business data:  561\n",
      "Engineering data:  277\n",
      "Product data:  552\n"
     ]
    }
   ],
   "source": [
    "business_set= dataset[dataset['category']=='business']\n",
    "engineering_set= dataset[dataset['category']=='engineering']\n",
    "product_set= dataset[dataset['category']=='product']\n",
    "print \"Business data: \", len(business_set)\n",
    "print \"Engineering data: \", len(engineering_set)\n",
    "print \"Product data: \", len(product_set)"
   ]
  },
  {
   "cell_type": "code",
   "execution_count": 14,
   "metadata": {},
   "outputs": [],
   "source": [
    "# Model 1 with 3 clusters (Main categories)\n",
    "(means , cluster_assignment)= initialize_means(3,tf_idf_matrix)\n",
    "covs= initialize_covs(3,tf_idf_matrix)\n",
    "weights= initialize_weights(3,tf_idf_matrix)\n",
    "model_em_3k= EM_for_high_dimension(tf_idf_matrix, means, covs, weights, cov_smoothing=1e-10)"
   ]
  },
  {
   "cell_type": "code",
   "execution_count": 15,
   "metadata": {},
   "outputs": [],
   "source": [
    "# Model 2 with 10 clusters.\n",
    "(means , cluster_assignment)= initialize_means(10,tf_idf_matrix)\n",
    "covs= initialize_covs(10,tf_idf_matrix)\n",
    "weights= initialize_weights(10,tf_idf_matrix)\n",
    "model_em_10k= EM_for_high_dimension(tf_idf_matrix, means, covs, weights, cov_smoothing=1e-10)"
   ]
  },
  {
   "cell_type": "code",
   "execution_count": 34,
   "metadata": {},
   "outputs": [
    {
     "name": "stdout",
     "output_type": "stream",
     "text": [
      "\n",
      "==========================================================\n",
      "Cluster 0: Largest mean parameters in cluster \n",
      "\n",
      "Word        Mean        Variance    \n",
      "data        3.18e-02    4.91e-03\n",
      "netflix     2.82e-02    1.68e-02\n",
      "companies   2.01e-02    1.54e-03\n",
      "time        1.90e-02    4.41e-04\n",
      "business    1.86e-02    1.44e-03\n",
      "code        1.83e-02    2.45e-03\n",
      "like        1.82e-02    3.42e-04\n",
      "service     1.80e-02    1.99e-03\n",
      "company     1.76e-02    1.21e-03\n",
      "new         1.75e-02    5.12e-04\n",
      "\n",
      "==========================================================\n",
      "Cluster 1: Largest mean parameters in cluster \n",
      "\n",
      "Word        Mean        Variance    \n",
      "product     2.44e-01    1.01e-02\n",
      "customer    5.52e-02    5.85e-03\n",
      "team        5.38e-02    4.21e-03\n",
      "customers   5.38e-02    4.83e-03\n",
      "manager     4.77e-02    5.18e-03\n",
      "management  4.11e-02    4.32e-03\n",
      "managers    3.98e-02    3.60e-03\n",
      "products    3.61e-02    1.66e-03\n",
      "users       3.55e-02    3.16e-03\n",
      "market      3.50e-02    4.41e-03\n",
      "\n",
      "==========================================================\n",
      "Cluster 2: Largest mean parameters in cluster \n",
      "\n",
      "Word        Mean        Variance    \n",
      "design      7.03e-02    1.19e-02\n",
      "team        5.86e-02    5.65e-03\n",
      "people      5.54e-02    3.06e-03\n",
      "product     4.77e-02    2.46e-03\n",
      "work        3.81e-02    2.11e-03\n",
      "time        3.80e-02    9.73e-04\n",
      "company     3.53e-02    2.61e-03\n",
      "like        3.17e-02    6.79e-04\n",
      "users       3.11e-02    3.75e-03\n",
      "ve          3.00e-02    9.82e-04\n",
      "\n",
      "==========================================================\n"
     ]
    }
   ],
   "source": [
    "visualize_EM_clusters(tf_idf_matrix, model_em_3k['means'], model_em_3k['covs'], tfidfvec.get_feature_names())"
   ]
  },
  {
   "cell_type": "code",
   "execution_count": 33,
   "metadata": {
    "scrolled": false
   },
   "outputs": [
    {
     "name": "stdout",
     "output_type": "stream",
     "text": [
      "\n",
      "==========================================================\n",
      "Cluster 0: Largest mean parameters in cluster \n",
      "\n",
      "Word        Mean        Variance    \n",
      "company     4.83e-02    3.26e-03\n",
      "startup     4.27e-02    4.71e-03\n",
      "people      4.07e-02    1.93e-03\n",
      "business    3.88e-02    2.90e-03\n",
      "companies   3.66e-02    2.38e-03\n",
      "investors   2.95e-02    3.70e-03\n",
      "time        2.83e-02    6.75e-04\n",
      "founders    2.70e-02    3.10e-03\n",
      "like        2.63e-02    5.71e-04\n",
      "market      2.49e-02    1.96e-03\n",
      "\n",
      "==========================================================\n",
      "Cluster 1: Largest mean parameters in cluster \n",
      "\n",
      "Word        Mean        Variance    \n",
      "data        5.34e-02    8.40e-03\n",
      "code        3.72e-02    4.48e-03\n",
      "microservices3.05e-02    1.23e-02\n",
      "services    2.43e-02    3.18e-03\n",
      "service     2.29e-02    3.02e-03\n",
      "serverless  2.12e-02    1.07e-02\n",
      "use         2.01e-02    4.50e-04\n",
      "new         1.96e-02    5.97e-04\n",
      "time        1.93e-02    4.59e-04\n",
      "application 1.89e-02    1.21e-03\n",
      "\n",
      "==========================================================\n",
      "Cluster 2: Largest mean parameters in cluster \n",
      "\n",
      "Word        Mean        Variance    \n",
      "product     2.28e-01    1.03e-02\n",
      "customer    5.76e-02    5.95e-03\n",
      "customers   5.72e-02    5.05e-03\n",
      "team        4.65e-02    2.59e-03\n",
      "manager     4.26e-02    4.71e-03\n",
      "users       3.88e-02    3.52e-03\n",
      "management  3.71e-02    3.94e-03\n",
      "user        3.64e-02    3.06e-03\n",
      "managers    3.64e-02    3.29e-03\n",
      "people      3.61e-02    1.95e-03\n",
      "\n",
      "==========================================================\n",
      "Cluster 3: Largest mean parameters in cluster \n",
      "\n",
      "Word        Mean        Variance    \n",
      "users       8.33e-02    7.54e-03\n",
      "user        6.69e-02    6.01e-03\n",
      "app         6.40e-02    1.28e-02\n",
      "mobile      5.60e-02    1.24e-02\n",
      "design      4.65e-02    3.03e-03\n",
      "content     4.56e-02    8.84e-03\n",
      "product     4.06e-02    2.01e-03\n",
      "platform    3.84e-02    8.94e-03\n",
      "people      3.46e-02    1.83e-03\n",
      "apps        3.28e-02    3.98e-03\n",
      "\n",
      "==========================================================\n",
      "Cluster 4: Largest mean parameters in cluster \n",
      "\n",
      "Word        Mean        Variance    \n",
      "pricing     3.46e-01    5.25e-02\n",
      "price       2.52e-01    3.12e-02\n",
      "product     9.03e-02    5.64e-03\n",
      "customers   8.37e-02    2.89e-03\n",
      "prices      7.67e-02    5.47e-03\n",
      "pay         6.44e-02    2.28e-03\n",
      "value       5.59e-02    2.03e-03\n",
      "apple       5.24e-02    3.38e-02\n",
      "market      4.63e-02    1.85e-03\n",
      "customer    4.50e-02    2.11e-03\n",
      "\n",
      "==========================================================\n",
      "Cluster 5: Largest mean parameters in cluster \n",
      "\n",
      "Word        Mean        Variance    \n",
      "team        1.30e-01    9.49e-03\n",
      "people      5.72e-02    3.58e-03\n",
      "teams       4.68e-02    6.28e-03\n",
      "work        4.61e-02    2.00e-03\n",
      "culture     4.30e-02    1.05e-02\n",
      "time        4.24e-02    1.14e-03\n",
      "company     4.09e-02    2.37e-03\n",
      "product     3.82e-02    2.09e-03\n",
      "buffer      3.29e-02    9.88e-03\n",
      "ve          2.98e-02    1.20e-03\n",
      "\n",
      "==========================================================\n",
      "Cluster 6: Largest mean parameters in cluster \n",
      "\n",
      "Word        Mean        Variance    \n",
      "design      2.40e-01    2.62e-02\n",
      "designer    2.06e-01    2.56e-02\n",
      "newslog     1.06e-01    4.00e-02\n",
      "meets       7.31e-02    1.90e-02\n",
      "medium      5.69e-02    5.23e-02\n",
      "community   5.59e-02    7.55e-03\n",
      "startup     5.23e-02    3.37e-02\n",
      "join        5.13e-02    9.36e-03\n",
      "news        4.79e-02    8.17e-03\n",
      "start       4.27e-02    1.83e-02\n",
      "\n",
      "==========================================================\n",
      "Cluster 7: Largest mean parameters in cluster \n",
      "\n",
      "Word        Mean        Variance    \n",
      "netflix     6.58e-01    4.27e-03\n",
      "blog        2.51e-01    7.75e-03\n",
      "technology  1.75e-01    4.70e-03\n",
      "regarding   1.62e-01    4.03e-03\n",
      "perspectives1.57e-01    3.81e-03\n",
      "tech        1.36e-01    3.63e-03\n",
      "issues      1.02e-01    1.17e-03\n",
      "challenges  9.98e-02    1.53e-03\n",
      "focused     9.80e-02    1.48e-03\n",
      "decisions   9.44e-02    1.37e-03\n",
      "\n",
      "==========================================================\n",
      "Cluster 8: Largest mean parameters in cluster \n",
      "\n",
      "Word        Mean        Variance    \n",
      "design      2.09e-01    1.29e-02\n",
      "designers   9.05e-02    1.17e-02\n",
      "ux          5.97e-02    1.60e-02\n",
      "team        5.29e-02    4.26e-03\n",
      "product     5.22e-02    3.18e-03\n",
      "work        5.18e-02    2.86e-03\n",
      "designer    4.72e-02    2.37e-03\n",
      "project     4.29e-02    5.74e-03\n",
      "people      4.12e-02    2.17e-03\n",
      "sprint      3.62e-02    1.32e-02\n",
      "\n",
      "==========================================================\n",
      "Cluster 9: Largest mean parameters in cluster \n",
      "\n",
      "Word        Mean        Variance    \n",
      "xero        3.86e-01    3.81e-06\n",
      "vet         2.42e-01    1.50e-06\n",
      "institute   2.20e-01    1.23e-06\n",
      "codigodelsur1.98e-01    1.00e-06\n",
      "tech        1.78e-01    8.07e-07\n",
      "veteran     1.65e-01    7.01e-07\n",
      "accounting  1.56e-01    6.25e-07\n",
      "firms       1.38e-01    4.89e-07\n",
      "founder     1.31e-01    4.38e-07\n",
      "highly      1.01e-01    2.61e-07\n",
      "\n",
      "==========================================================\n"
     ]
    }
   ],
   "source": [
    "visualize_EM_clusters(tf_idf_matrix, model_em_10k['means'], model_em_10k['covs'], tfidfvec.get_feature_names())"
   ]
  },
  {
   "cell_type": "markdown",
   "metadata": {},
   "source": [
    "## Clustering report for each model"
   ]
  },
  {
   "cell_type": "code",
   "execution_count": 35,
   "metadata": {},
   "outputs": [
    {
     "name": "stdout",
     "output_type": "stream",
     "text": [
      "cluster  0 assignments:  635.0\n",
      "cluster  1 assignments:  225.0\n",
      "cluster  2 assignments:  530.0\n"
     ]
    }
   ],
   "source": [
    "#Cluster assignments for first model with 3 clusters \n",
    "resps_3k= sf.SFrame(model_em_3k['resp'])\n",
    "resps_3k= resps_3k.unpack('X1', '')\n",
    "cluster_id=0\n",
    "for col in resps_3k.column_names():\n",
    "    cluster_3k= np.array(resps_3k[col])\n",
    "    print \"cluster \",cluster_id , \"assignments: \", cluster_3k.sum()\n",
    "    cluster_id+=1"
   ]
  },
  {
   "cell_type": "code",
   "execution_count": 36,
   "metadata": {},
   "outputs": [
    {
     "name": "stdout",
     "output_type": "stream",
     "text": [
      "cluster  0 assignments:  358.0\n",
      "cluster  1 assignments:  301.0\n",
      "cluster  2 assignments:  257.0\n",
      "cluster  3 assignments:  127.0\n",
      "cluster  4 assignments:  17.0\n",
      "cluster  5 assignments:  155.0\n",
      "cluster  6 assignments:  18.0\n",
      "cluster  7 assignments:  25.0\n",
      "cluster  8 assignments:  121.0\n",
      "cluster  9 assignments:  11.0\n"
     ]
    }
   ],
   "source": [
    "#Cluster assignments for second model with 10 clusters \n",
    "resps_10k= sf.SFrame(model_em_10k['resp'])\n",
    "resps_10k= resps_10k.unpack('X1', '')\n",
    "cluster_id=0\n",
    "for col in resps_10k.column_names():\n",
    "    cluster_10k= np.array(resps_10k[col])\n",
    "    print \"cluster \",cluster_id , \"assignments: \", cluster_10k.sum()\n",
    "    cluster_id+=1"
   ]
  },
  {
   "cell_type": "code",
   "execution_count": 37,
   "metadata": {},
   "outputs": [
    {
     "name": "stdout",
     "output_type": "stream",
     "text": [
      "Cluster  0 \n",
      "==========================\n",
      "\n",
      "product count :  92 \n",
      "engineering count :  263 \n",
      "business count :  280 \n",
      "\n",
      "Cluster  1 \n",
      "==========================\n",
      "\n",
      "product count :  179 \n",
      "engineering count :  0 \n",
      "business count :  46 \n",
      "\n",
      "Cluster  2 \n",
      "==========================\n",
      "\n",
      "product count :  281 \n",
      "engineering count :  14 \n",
      "business count :  235 \n",
      "\n"
     ]
    }
   ],
   "source": [
    "# Articles' categories in model 1 with 3 clusters\n",
    "clusters_3k_idx=[]\n",
    "for col in resps_3k.column_names():\n",
    "    cluster_3k= np.array(resps_3k[col])\n",
    "    cluster_3k= cluster_3k.nonzero()[0]\n",
    "    clusters_3k_idx.append(cluster_3k)\n",
    "clusters_report(clusters_3k_idx)"
   ]
  },
  {
   "cell_type": "code",
   "execution_count": 38,
   "metadata": {
    "scrolled": false
   },
   "outputs": [
    {
     "name": "stdout",
     "output_type": "stream",
     "text": [
      "Cluster  0 \n",
      "==========================\n",
      "\n",
      "product count :  49 \n",
      "engineering count :  6 \n",
      "business count :  303 \n",
      "\n",
      "Cluster  1 \n",
      "==========================\n",
      "\n",
      "product count :  32 \n",
      "engineering count :  235 \n",
      "business count :  34 \n",
      "\n",
      "Cluster  2 \n",
      "==========================\n",
      "\n",
      "product count :  207 \n",
      "engineering count :  0 \n",
      "business count :  50 \n",
      "\n",
      "Cluster  3 \n",
      "==========================\n",
      "\n",
      "product count :  88 \n",
      "engineering count :  3 \n",
      "business count :  36 \n",
      "\n",
      "Cluster  4 \n",
      "==========================\n",
      "\n",
      "product count :  7 \n",
      "engineering count :  0 \n",
      "business count :  10 \n",
      "\n",
      "Cluster  5 \n",
      "==========================\n",
      "\n",
      "product count :  45 \n",
      "engineering count :  8 \n",
      "business count :  102 \n",
      "\n",
      "Cluster  6 \n",
      "==========================\n",
      "\n",
      "product count :  15 \n",
      "engineering count :  2 \n",
      "business count :  1 \n",
      "\n",
      "Cluster  7 \n",
      "==========================\n",
      "\n",
      "product count :  1 \n",
      "engineering count :  23 \n",
      "business count :  1 \n",
      "\n",
      "Cluster  8 \n",
      "==========================\n",
      "\n",
      "product count :  108 \n",
      "engineering count :  0 \n",
      "business count :  13 \n",
      "\n",
      "Cluster  9 \n",
      "==========================\n",
      "\n",
      "product count :  0 \n",
      "engineering count :  0 \n",
      "business count :  11 \n",
      "\n"
     ]
    }
   ],
   "source": [
    "# Articles' categories in model 2 with 10 clusters\n",
    "clusters_10k_idx=[]\n",
    "for col in resps_10k.column_names():\n",
    "    cluster_10k= np.array(resps_10k[col])\n",
    "    cluster_10k= cluster_10k.nonzero()[0]\n",
    "    clusters_10k_idx.append(cluster_10k)\n",
    "clusters_report(clusters_10k_idx)"
   ]
  },
  {
   "cell_type": "code",
   "execution_count": null,
   "metadata": {
    "collapsed": true
   },
   "outputs": [],
   "source": []
  }
 ],
 "metadata": {
  "kernelspec": {
   "display_name": "Python 2",
   "language": "python",
   "name": "python2"
  },
  "language_info": {
   "codemirror_mode": {
    "name": "ipython",
    "version": 2
   },
   "file_extension": ".py",
   "mimetype": "text/x-python",
   "name": "python",
   "nbconvert_exporter": "python",
   "pygments_lexer": "ipython2",
   "version": "2.7.12"
  }
 },
 "nbformat": 4,
 "nbformat_minor": 2
}
