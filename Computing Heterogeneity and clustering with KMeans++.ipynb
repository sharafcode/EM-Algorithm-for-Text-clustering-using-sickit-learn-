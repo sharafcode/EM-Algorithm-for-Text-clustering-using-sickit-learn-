{
 "cells": [
  {
   "cell_type": "markdown",
   "metadata": {},
   "source": [
    "# Heterogeneity Metric \n",
    "\n",
    "It's a metric for unsupurvised learning to compute the relation distance between each datapoint for each cluster, \n",
    "after training a model using KMeans or any other algorithm compute the distance between the articles in each cluster to their centroid of the cluster and sum all of this distance, iterate this operation for each cluster and sum all the heterogeneity for all clusters then the result will be the heterogeneity metric."
   ]
  },
  {
   "cell_type": "code",
   "execution_count": 3,
   "metadata": {
    "collapsed": true
   },
   "outputs": [],
   "source": [
    "from sklearn.feature_extraction.text import TfidfVectorizer\n",
    "from sklearn.cluster import KMeans\n",
    "from sklearn.metrics import adjusted_rand_score\n",
    "from sklearn.metrics.pairwise import pairwise_distances_argmin, euclidean_distances , pairwise_distances\n",
    "import pandas as pd\n",
    "import matplotlib.pyplot as plt\n",
    "import nltk\n",
    "import numpy as np"
   ]
  },
  {
   "cell_type": "code",
   "execution_count": 4,
   "metadata": {},
   "outputs": [],
   "source": [
    "dataset= pd.read_csv('Dataset/KO_data.csv')"
   ]
  },
  {
   "cell_type": "code",
   "execution_count": 5,
   "metadata": {
    "collapsed": true
   },
   "outputs": [],
   "source": [
    "tfidfvec = TfidfVectorizer(stop_words='english')\n",
    "tfidf_matrix = tfidfvec.fit_transform(dataset['text'])"
   ]
  },
  {
   "cell_type": "markdown",
   "metadata": {},
   "source": [
    "## Choosing No. of clusters\n",
    "\n",
    "Using the heterogeneity metric to know the suitable k to be used preveting the overfitting and also the irrelevant articles in clusters."
   ]
  },
  {
   "cell_type": "code",
   "execution_count": 6,
   "metadata": {},
   "outputs": [],
   "source": [
    "def compute_heterogeneity(model,tfidf_matrix):\n",
    "    centers= model.cluster_centers_\n",
    "    model_labels = pairwise_distances_argmin(tfidf_matrix,centers)\n",
    "    heterogeneity=0\n",
    "    for i,j in enumerate(set(model_labels)):\n",
    "        positions=tfidf_matrix[np.where(model_labels == i)]\n",
    "        output=sum(euclidean_distances(positions,centers[j].reshape(1,-1)))\n",
    "        heterogeneity+=output\n",
    "        #print('cluster {} has a  heterogeneity of {}'.format(i,output))\n",
    "    return heterogeneity"
   ]
  },
  {
   "cell_type": "code",
   "execution_count": 15,
   "metadata": {
    "collapsed": true
   },
   "outputs": [],
   "source": [
    "def plot_k_vs_heterogeneity(k_values, heterogeneity_values):\n",
    "    plt.figure(figsize=(7,4))\n",
    "    plt.plot(k_values, heterogeneity_values, linewidth=4)\n",
    "    plt.xlabel('K_values')\n",
    "    plt.ylabel('Heterogeneity')\n",
    "    plt.title('K vs. Heterogeneity')\n",
    "    plt.rcParams.update({'font.size': 16})\n",
    "    plt.tight_layout()"
   ]
  },
  {
   "cell_type": "markdown",
   "metadata": {},
   "source": [
    "#### Plotting graph K vs. Heterogeneity\n",
    "Plot a graph between the K values (no. of clusters) and the heterogeneity of each model, <b>choose the elbow of the graph</b> to be the best value for k."
   ]
  },
  {
   "cell_type": "code",
   "execution_count": 16,
   "metadata": {},
   "outputs": [
    {
     "name": "stdout",
     "output_type": "stream",
     "text": [
      "[ 1371.90089673]\n",
      "[ 1352.00511119]\n",
      "[ 1314.51244913]\n",
      "[ 1290.60227776]\n",
      "[ 1234.77945616]\n"
     ]
    },
    {
     "data": {
      "image/png": "[encoded data removed]",
      "text/plain": [
       "<matplotlib.figure.Figure at 0x7f49bae0cc10>"
      ]
     },
     "metadata": {},
     "output_type": "display_data"
    }
   ],
   "source": [
    "k_list = [3, 10, 25, 50, 100]\n",
    "heterogeneity_values = []\n",
    "for k in k_list:\n",
    "    model_kmeans= KMeans(n_clusters=k, init='k-means++', max_iter=100, n_init=1)\n",
    "    model_kmeans.fit(tfidf_matrix)\n",
    "    hetero= compute_heterogeneity(model_kmeans,tfidf_matrix)\n",
    "    print hetero\n",
    "    heterogeneity_values.append(hetero)\n",
    "plot_k_vs_heterogeneity(k_list, heterogeneity_values)"
   ]
  },
  {
   "cell_type": "markdown",
   "metadata": {},
   "source": [
    "## Testing data and visualize words for each cluster"
   ]
  },
  {
   "cell_type": "code",
   "execution_count": 10,
   "metadata": {},
   "outputs": [
    {
     "name": "stdout",
     "output_type": "stream",
     "text": [
      "Top terms per cluster:\n",
      "Cluster 0:  product  team  people  customers  customer  company  time  users  work  new\n",
      "Cluster 1:  data  netflix  time  like  people  code  new  use  companies  business\n",
      "Cluster 2:  design  designers  designer  ux  product  team  work  user  sprint  users\n"
     ]
    }
   ],
   "source": [
    "model= KMeans(n_clusters=3, init='k-means++', max_iter=100, n_init=1)\n",
    "model.fit(tfidf_matrix)\n",
    "print(\"Top terms per cluster:\")\n",
    "order_centroids = model.cluster_centers_.argsort()[:, ::-1]\n",
    "terms = tfidfvec.get_feature_names()\n",
    "for i in range(3):\n",
    "    print(\"Cluster %d:\" % i),\n",
    "    for ind in order_centroids[i, :10]:\n",
    "        print(' %s' % terms[ind]),\n",
    "    print"
   ]
  },
  {
   "cell_type": "code",
   "execution_count": 11,
   "metadata": {
    "collapsed": true
   },
   "outputs": [],
   "source": [
    "test_dataset= pd.read_csv('KO_articles_test.csv')"
   ]
  },
  {
   "cell_type": "code",
   "execution_count": 12,
   "metadata": {
    "collapsed": true
   },
   "outputs": [],
   "source": [
    "test_business = test_dataset[test_dataset['category']=='business']\n",
    "test_engineering = test_dataset[test_dataset['category']=='engineering']\n",
    "test_product = test_dataset[test_dataset['category']=='product']"
   ]
  },
  {
   "cell_type": "code",
   "execution_count": 13,
   "metadata": {},
   "outputs": [
    {
     "name": "stdout",
     "output_type": "stream",
     "text": [
      "\n",
      "Business category Predictions on test set\n",
      "[0 0 0 0 1 0 1 0 1 1 0 0 1 1 1 0 1 0 0 0]\n",
      "\n",
      "Engineering category Predictions on test set\n",
      "[1 1 1 1 1 1 1 1 1 1 1 1 1 1 1 1 1 1 1 1 1 1 0 1 1 1 1 1 1 1 1 1 1 1 1 1 1\n",
      " 1 1 1 1 1 1 1 1 1 1 1 1 0 1 1 1 1]\n",
      "\n",
      "Product category Predictions on test set\n",
      "[0 1 2 0 0 1 0 2 1 2 2 0 0 2 1 0 0 2 1 0 0 0 2]\n"
     ]
    }
   ],
   "source": [
    "print(\"\\nBusiness category Predictions on test set\")\n",
    "\n",
    "Y = tfidfvec.transform(test_business['text'])\n",
    "prediction = model.predict(Y)\n",
    "print(prediction)\n",
    "\n",
    "print(\"\\nEngineering category Predictions on test set\")\n",
    "\n",
    "Y = tfidfvec.transform(test_engineering['text'])\n",
    "prediction = model.predict(Y)\n",
    "print(prediction)\n",
    "\n",
    "print(\"\\nProduct category Predictions on test set\")\n",
    "\n",
    "Y = tfidfvec.transform(test_product['text'])\n",
    "prediction = model.predict(Y)\n",
    "print(prediction)"
   ]
  }
 ],
 "metadata": {
  "kernelspec": {
   "display_name": "Python 2",
   "language": "python",
   "name": "python2"
  },
  "language_info": {
   "codemirror_mode": {
    "name": "ipython",
    "version": 2
   },
   "file_extension": ".py",
   "mimetype": "text/x-python",
   "name": "python",
   "nbconvert_exporter": "python",
   "pygments_lexer": "ipython2",
   "version": "2.7.12"
  }
 },
 "nbformat": 4,
 "nbformat_minor": 2
}
